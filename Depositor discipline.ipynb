{
 "cells": [
  {
   "cell_type": "markdown",
   "metadata": {},
   "source": [
    "# Load the data to be used"
   ]
  },
  {
   "cell_type": "code",
   "execution_count": 1,
   "metadata": {
    "collapsed": true
   },
   "outputs": [],
   "source": [
    "import pandas as pd\n",
    "import numpy as np\n",
    "import matplotlib.pyplot as plt\n",
    "%matplotlib inline"
   ]
  },
  {
   "cell_type": "code",
   "execution_count": 2,
   "metadata": {
    "collapsed": true
   },
   "outputs": [],
   "source": [
    "PATH_TO_ZIPPED_DATA = 'data/zipped_data/'  # Provide the path to the FDIC/FFIEC's zipped data if you need it extracted\n",
    "PATH_TO_UNZIPPED_DATA = 'data/used_data'"
   ]
  },
  {
   "cell_type": "code",
   "execution_count": 3,
   "metadata": {
    "collapsed": false
   },
   "outputs": [],
   "source": [
    "# It's easier to only load variables you need into the dataframe rather than joining all the reports together;\n",
    "# that's due to variables being present in multiple reports.\n",
    "REPORTS_TO_LOAD = {\n",
    "    'RC': ['RCON3210', 'RCON2170'], # balance sheet\n",
    "    'RCCI': ['RCON2122', 'RCON1797', 'RCON5367', 'RCON5368'], # loans and leases I\n",
    "    'RCEI': ['RCON2604', 'RCONJ473', 'RCONJ474'], # deposit liabilities I\n",
    "    'RCK': ['RCONA514', 'RCON3485', 'RCONB563', 'RCONA529', 'RCON3368'], # quarterly averages\n",
    "    'RCN': ['RCON2769', 'RCON3492', 'RCON3494', 'RCON3495', 'RCON5399', 'RCON5400', 'RCON5402', 'RCON5403',\n",
    "            'RCON3500', 'RCON3501', 'RCON3503', 'RCON3504', 'RCONB835', 'RCONB836', 'RCON1607', 'RCON1608',\n",
    "            'RCONB576', 'RCONB577', 'RCONB579', 'RCONB580', 'RCON5390', 'RCON5391', 'RCON5460', 'RCON5461',\n",
    "            'RCON1227', 'RCON1228', 'RCON3506', 'RCON3507', 'RCONC237', 'RCONC229', 'RCONC239', 'RCONC230',\n",
    "            'RCONK214', 'RCONK215', 'RCONK217', 'RCONK218', 'RCONF174', 'RCONF176', 'RCONF175', 'RCONF177',\n",
    "            'RCONF180', 'RCONF182', 'RCONF181', 'RCONF183'], # past due loans\n",
    "    'RCO': ['RCON5597', 'RCON2710', 'RCON2722', 'RCONF051', 'RCONF052', 'RCONF047', 'RCONF048', 'RCONG167',\n",
    "            'RCONG168', 'RCONJ944', 'RCONJ945'], # deposit insurance assessment\n",
    "    'RI': ['RIADA517', 'RIAD4508', 'RIAD0093', 'RIADA518', 'RIAD4301'], # income statement\n",
    "    }\n",
    "\n",
    "DATES_TO_USE = ['03312001', '06302001', '09302001', '12312001',\n",
    "               '03312002', '06302002', '09302002', '12312002',\n",
    "               '03312003', '06302003', '09302003', '12312003',\n",
    "               '03312004', '06302004', '09302004', '12312004',\n",
    "               '03312005', '06302005', '09302005', '12312005',\n",
    "               '03312006', '06302006', '09302006', '12312006',\n",
    "               '03312007', '06302007', '09302007', '12312007',\n",
    "               '03312008', '06302008', '09302008', '12312008',\n",
    "               '03312009', '06302009', '09302009', '12312009',\n",
    "               '03312010', '06302010', '09302010', '12312010',\n",
    "               '03312011', '06302011', '09302011', '12312011',\n",
    "               '03312012', '06302012', '09302012', '12312012',\n",
    "               ]"
   ]
  },
  {
   "cell_type": "markdown",
   "metadata": {},
   "source": [
    "### Uncomment this if you need to extract files from the FDIC/FFIEC's zipped folders:"
   ]
  },
  {
   "cell_type": "code",
   "execution_count": 4,
   "metadata": {
    "collapsed": false
   },
   "outputs": [],
   "source": [
    "# Uncomment to get data in the folder of your choice\n",
    "\n",
    "#import zipfile\n",
    "\n",
    "#for report_date in DATES_TO_USE:\n",
    "#    zipped_folder = zipfile.ZipFile(PATH_TO_ZIPPED_DATA + 'FFIEC CDR Call Bulk All Schedules ' + report_date + '.zip')\n",
    "#    names_of_files_to_unzip = ['FFIEC CDR Call Schedule ' + report_name + ' ' + report_date + '.txt' \\\n",
    "#                               for report_name in REPORTS_TO_LOAD]\n",
    "\n",
    "#    for file in names_of_files_to_unzip:\n",
    "#        try:\n",
    "#            zipped_folder.extract(file, PATH_TO_UNZIPPED_DATA)\n",
    "#        except KeyError:\n",
    "#            try: # RCN breaks into 2 reports in 2011 and gets a new name\n",
    "#                zipped_folder.extract(file[:-4] + \"(1 of 2)\" + file[-4:], PATH_TO_UNZIPPED_DATA)\n",
    "#                zipped_folder.extract(file[:-4] + \"(2 of 2)\" + file[-4:], PATH_TO_UNZIPPED_DATA)\n",
    "#            except KeyError:\n",
    "#                print(\"There was a problem with file \", file)"
   ]
  },
  {
   "cell_type": "markdown",
   "metadata": {},
   "source": [
    "# Make dataframes"
   ]
  },
  {
   "cell_type": "code",
   "execution_count": 5,
   "metadata": {
    "collapsed": true
   },
   "outputs": [],
   "source": [
    "### Evolution of the FDIC's variables\n",
    "\n",
    "#Was:    RCON5402, RCON5403                        In RCN, split into 4 categories in March 2002\n",
    "#Became: RCONC237, RCONC229, RCONC239, RCONC230    The 4 categories RCON5402 and RCON5403 were split into\n",
    "#Was:    RCONB579, RCONB580                        In RCN, split into 4 categories in March 2011\n",
    "#Became: RCONK214, RCONK215, RCONK217, RCONK218    The 4 categories RCONB579 and RCONB580 were split into\n",
    "#Was:    RCON2769, RCON3492                        In RCN, split into 4 categories in March 2008\n",
    "#Became: RCONF174, RCONF176, RCONF175, RCONF177    The 4 categories RCON2769 and RCON3492 were split into\n",
    "#Was:    RCON3503, RCON3504                        In RCN, split into 4 categories in March 2008\n",
    "#Became: RCONF180, RCONF182, RCONF181, RCONF183    The 4 categories RCON3503 and RCON3504 were split into\n",
    "#Was:    RCON2604                                  In RCEI, split into 3 categories in March 2010\n",
    "#Became: RCONJ473, RCONJ474                        The 2 relevant categories RCON2604 was split into\n",
    "#Was:    RCON2710, RCON2722                        In RCO through June 2006, representing the $/# of deposit accounts > $100k, \n",
    "                                                    #then turns into...\n",
    "#Became: RCONF051, RCONF052, RCONF047, RCONF048    The $/# of deposit accounts > 100k and > $250k for retirement accounts\n",
    "                                                    #Changes again 9/2009 from deposit accounts >$100k to deposit accounts >$250k\n",
    "#Was:    RCONG167, RCONG168                        The $/# of fully insured transaction accounts. Added 12/31/2008\n",
    "#Became: RCONJ944, RCONJ945                        The $/# of fully insured transaction accounts. Same thing, different name."
   ]
  },
  {
   "cell_type": "code",
   "execution_count": 6,
   "metadata": {
    "collapsed": true
   },
   "outputs": [],
   "source": [
    "# When variables are missing from reports, it's because the FDIC phased out that variable already,\n",
    "# or because the variable wasn't used yet. \n",
    "MISSING_HEADERS = {\n",
    "    'RCON5402': 'ALL OTH LNS,1-4FMLY-PAS DU 90 DYS OR',\n",
    "    'RCON5403': 'ALL OTH LNS,1-4FMLY-NONACCRUAL',\n",
    "    'RCONC237': 'CLSD-ED LNS:SEC 1 LIENS PA DU 90 MOR',\n",
    "    'RCONC229': 'CLSD-END LNS:SCRD 1ST LIENS-NONACCRL',\n",
    "    'RCONC239': 'CLSD-ED LNS:SEC JR LIENS PA DU 90 MO',\n",
    "    'RCONC230': 'CLSD-ED LNS:SCRD JR LIENS-NONACCRUAL',\n",
    "    'RCONB579': 'PAST DUE(>=90DAY): OTHER INDIV LOANS',\n",
    "    'RCONB580': 'PAST DUE(NONACCR): OTHER INDIV LOANS',\n",
    "    'RCONK214': 'AUTO LN TO IND HH FAM PD 90',\n",
    "    'RCONK215': 'AUTO LN TO IND HH FAM NONACCRUAL',\n",
    "    'RCONK217': 'OTHR LN TO IND HH FAM PD 90',\n",
    "    'RCONK218': 'OTHR LN TO IND HH FAM NONACCRUAL',\n",
    "    'RCON2769': 'CONSTRUCTN LNS-PAST DUE 90DYS OR MOR',\n",
    "    'RCON3492': 'CONSTRUCTION LNS-NONACCRUAL',\n",
    "    'RCONF174': '1-4 FAM RES CNSTRCTN LN PD > 90 DAY',\n",
    "    'RCONF176': '1-4 FAM RES CNSTRCTN LN NONACCRUAL',\n",
    "    'RCONF175': 'OTHER CNSTRCTN LN PAST DUE > 90 DAYS',\n",
    "    'RCONF177': 'OTHER CNSTRCTN LN NONACCRUAL',\n",
    "    'RCON3503': 'LNS SECD BY NONFARM-PAST DU 90DYS OR',\n",
    "    'RCON3504': 'LNS SECD BY NONFARM-NONACCRUAL',\n",
    "    'RCONF180': 'LN SCRD BY OWNR OCCPD NFARM NRES > 9',\n",
    "    'RCONF182': 'LN SCRD BY OWNR OCCPD NFARM NRES NON',\n",
    "    'RCONF181': 'LN SCRD BY OTHR NFARM NRES PRPRTY >',\n",
    "    'RCONF183': 'LN SCRD BY OTHR NFARM NRES PRPRTY NA',\n",
    "    'RCON2604': 'TIME DEPOSITS GE 100000',\n",
    "    'RCONJ473': 'TIME DEPOSITS EQ 100K LE 250K',\n",
    "    'RCONJ474': 'TIME DEPOSITS GT 250K',\n",
    "    'RCON2710': 'TOTAL DEPOSITS > $100,000',\n",
    "    'RCON2722': 'TOT DEPS - NUM OF ACCTS > $100,000',\n",
    "    'RCONF051': 'AMT OF DEP ACCNT MORE THAN $250K',\n",
    "    'RCONF052': 'NBR OF DEP ACCNT GT $250K',\n",
    "    'RCONF047': 'AMT RETIREMT DEP ACCTS MOR THAN $250',\n",
    "    'RCONF048': 'NBR RETIRE DEP ACCNT MOR THAN $250K',\n",
    "    'RCONG167': 'AMT NONINT ACTS GE 250K',\n",
    "    'RCONG168': 'NBR NONINT ACT GE 250K',\n",
    "    'RCONJ944': 'AMT NONINT ACTS GT 250K DODD FRANK A',\n",
    "    'RCONJ945': 'NBR NONINT ACT GT 250K DODD FRANK AC',\n",
    "}"
   ]
  },
  {
   "cell_type": "code",
   "execution_count": 7,
   "metadata": {
    "collapsed": false
   },
   "outputs": [],
   "source": [
    "def single_period_combined_bank_data(date_to_use, starting_count):\n",
    "    # The FDIC/FFIEC names their files in this pattern: \"FFIEC CDR Call Schedule RCO 03312001.txt\"\n",
    "    # date_to_use is the quarter-end date in the report title: '03312001'\n",
    "    \n",
    "    # There are two header rows in the FFIEC's text files. I'm keeping both in the dataframe\n",
    "    # because the first is the document-searchable field number, and the second is the \n",
    "    # human-readable description of the value. \n",
    "\n",
    "    base_report_created = False\n",
    "\n",
    "    for report in REPORTS_TO_LOAD:\n",
    "        try:\n",
    "            new_report = pd.read_csv(\n",
    "                PATH_TO_UNZIPPED_DATA + \"/FFIEC CDR Call Schedule \" + report + \" \" + date_to_use + \".txt\",\n",
    "                sep=\"\\t\", header=(0, 1), engine='python', index_col=0)\n",
    "        except FileNotFoundError: \n",
    "            # Add any known exceptions here, like RCN changing names in 2011\n",
    "            new_report = pd.read_csv(\n",
    "                PATH_TO_UNZIPPED_DATA + \"/FFIEC CDR Call Schedule RCN \" + date_to_use + \"(1 of 2).txt\",\n",
    "                sep=\"\\t\", header=(0, 1), engine='python', index_col=0)\n",
    "            new_report_2 = pd.read_csv(\n",
    "                PATH_TO_UNZIPPED_DATA + \"/FFIEC CDR Call Schedule RCN \" + date_to_use + \"(2 of 2).txt\",\n",
    "                sep=\"\\t\", header=(0, 1), engine='python', index_col=0)\n",
    "            new_report = new_report.join(new_report_2)\n",
    "\n",
    "        # Filter the loaded report down to only the variables requested, while keeping a record of the\n",
    "        # variables that were missing, and inserting '0's as placeholders until we deal with them later.\n",
    "        present_variables = []\n",
    "        missing_variables = []\n",
    "        for var in REPORTS_TO_LOAD[report]:\n",
    "            if var in new_report:\n",
    "                present_variables += [var]\n",
    "            else:\n",
    "                missing_variables += [var]\n",
    "\n",
    "        if base_report_created:\n",
    "            if present_variables:\n",
    "                base_report = base_report.join(new_report[present_variables])\n",
    "        else:\n",
    "            if present_variables:\n",
    "                base_report = new_report[present_variables]\n",
    "                base_report_created = True\n",
    "\n",
    "        if missing_variables:\n",
    "            # Include the missing variables in the dataframe as 0's. We'll deal with them later.\n",
    "            for var in missing_variables:\n",
    "                base_report[var, MISSING_HEADERS[var]] = 0 \n",
    "                ######### IS THIS STEP WORKING? IS THIS THE COMPLAINT PANDAS HAS FOR SETTING A VAR ON A COPY?\n",
    "\n",
    "        unaccounted_for_vars = [var for var in missing_variables if var not in MISSING_HEADERS]\n",
    "        if unaccounted_for_vars:\n",
    "            # Keep track of any missing variables we haven't accounted for\n",
    "            variables_to_fix[report + \"__\" + date_to_use] = unaccounted_for_vars\n",
    "\n",
    "    # My Q2 2009 data included duplicate. Others may have as well.\n",
    "    return base_report.drop_duplicates(), variables_to_fix"
   ]
  },
  {
   "cell_type": "code",
   "execution_count": 8,
   "metadata": {
    "collapsed": false
   },
   "outputs": [
    {
     "name": "stderr",
     "output_type": "stream",
     "text": [
      "c:\\users\\aubre\\desktop\\local_math\\jupyter_env\\lib\\site-packages\\ipykernel\\__main__.py:47: SettingWithCopyWarning: \n",
      "A value is trying to be set on a copy of a slice from a DataFrame.\n",
      "Try using .loc[row_indexer,col_indexer] = value instead\n",
      "\n",
      "See the caveats in the documentation: http://pandas.pydata.org/pandas-docs/stable/indexing.html#indexing-view-versus-copy\n"
     ]
    }
   ],
   "source": [
    "quarterly_dataframes = ['q1_2001', 'q2_2001', 'q3_2001', 'q4_2001',\n",
    "                        'q1_2002', 'q2_2002', 'q3_2002', 'q4_2002',\n",
    "                        'q1_2003', 'q2_2003', 'q3_2003', 'q4_2003',\n",
    "                        'q1_2004', 'q2_2004', 'q3_2004', 'q4_2004',\n",
    "                        'q1_2005', 'q2_2005', 'q3_2005', 'q4_2005',\n",
    "                        'q1_2006', 'q2_2006', 'q3_2006', 'q4_2006',\n",
    "                        'q1_2007', 'q2_2007', 'q3_2007', 'q4_2007',\n",
    "                        'q1_2008', 'q2_2008', 'q3_2008', 'q4_2008',\n",
    "                        'q1_2009', 'q2_2009', 'q3_2009', 'q4_2009',\n",
    "                        'q1_2010', 'q2_2010', 'q3_2010', 'q4_2010',\n",
    "                        'q1_2011', 'q2_2011', 'q3_2011', 'q4_2011',\n",
    "                        'q1_2012', 'q2_2012', 'q3_2012', 'q4_2012']\n",
    "\n",
    "variables_to_fix = {}\n",
    "dataframe_dict = {}\n",
    "    \n",
    "year_count = 2001\n",
    "#for period in quarterly_dataframes[:12]:\n",
    "for period in quarterly_dataframes[::4]:\n",
    "    df, variables_to_fix = single_period_combined_bank_data('0331' + str(year_count), variables_to_fix)\n",
    "    dataframe_dict[period] = {'df': df, 'quarter': 1}\n",
    "    year_count += 1\n",
    "\n",
    "year_count = 2001\n",
    "#for period in quarterly_dataframes[12:24]:\n",
    "for period in quarterly_dataframes[1::4]:\n",
    "    df, variables_to_fix = single_period_combined_bank_data('0630' + str(year_count), variables_to_fix)\n",
    "    dataframe_dict[period] = {'df': df, 'quarter': 2}\n",
    "    year_count += 1\n",
    "\n",
    "year_count = 2001\n",
    "#for period in quarterly_dataframes[24:36]:\n",
    "for period in quarterly_dataframes[2::4]:\n",
    "    df, variables_to_fix = single_period_combined_bank_data('0930' + str(year_count), variables_to_fix)\n",
    "    dataframe_dict[period] = {'df': df, 'quarter': 3}\n",
    "    year_count += 1\n",
    "\n",
    "year_count = 2001\n",
    "#for period in quarterly_dataframes[36:]:\n",
    "for period in quarterly_dataframes[3::4]:\n",
    "    df, variables_to_fix = single_period_combined_bank_data('1231' + str(year_count), variables_to_fix)\n",
    "    dataframe_dict[period] = {'df': df, 'quarter': 4}\n",
    "    year_count += 1\n"
   ]
  },
  {
   "cell_type": "code",
   "execution_count": 9,
   "metadata": {
    "collapsed": true
   },
   "outputs": [],
   "source": [
    "# Variables that needed to be processed, but weren't, are in variables_to_fix. Hopefully there's nothing to fix.\n",
    "assert variables_to_fix == {}"
   ]
  },
  {
   "cell_type": "code",
   "execution_count": null,
   "metadata": {
    "collapsed": true
   },
   "outputs": [],
   "source": []
  },
  {
   "cell_type": "code",
   "execution_count": null,
   "metadata": {
    "collapsed": false
   },
   "outputs": [],
   "source": []
  },
  {
   "cell_type": "code",
   "execution_count": null,
   "metadata": {
    "collapsed": false
   },
   "outputs": [],
   "source": []
  },
  {
   "cell_type": "code",
   "execution_count": null,
   "metadata": {
    "collapsed": true
   },
   "outputs": [],
   "source": []
  },
  {
   "cell_type": "code",
   "execution_count": 10,
   "metadata": {
    "collapsed": true
   },
   "outputs": [],
   "source": [
    "### Add economy-wide variables: 1-year treasuries, GDP growth, GDP deflator"
   ]
  },
  {
   "cell_type": "markdown",
   "metadata": {},
   "source": [
    "# Make variables that need to be calculated"
   ]
  },
  {
   "cell_type": "code",
   "execution_count": 11,
   "metadata": {
    "collapsed": false
   },
   "outputs": [],
   "source": [
    "def create_danger_loans_var(df):\n",
    "     # Noncurrent loans: 90+ days past due but still accruing, as well as nonaccruals \n",
    "    # Basically, loans that are in danger of being written off in the next quarter\n",
    "    df['calculated_var', 'noncurrent_danger_loans'] = df['RCON2769', 'CONSTRUCTN LNS-PAST DUE 90DYS OR MOR'] \\\n",
    "                                                    + df['RCON3492', 'CONSTRUCTION LNS-NONACCRUAL'] \\\n",
    "                                                    + df['RCONF174', '1-4 FAM RES CNSTRCTN LN PD > 90 DAY'] \\\n",
    "                                                    + df['RCONF176', '1-4 FAM RES CNSTRCTN LN NONACCRUAL'] \\\n",
    "                                                    + df['RCONF175', 'OTHER CNSTRCTN LN PAST DUE > 90 DAYS'] \\\n",
    "                                                    + df['RCONF177', 'OTHER CNSTRCTN LN NONACCRUAL'] \\\n",
    "                                                    + df['RCON3494', 'LNS SECD BY FARMLAND-PAST DUE 90DYS'] \\\n",
    "                                                    + df['RCON3495', 'LNS SECD BY FARMLAND-NONACCRUAL'] \\\n",
    "                                                    + df['RCON5399', 'RVLVG,OPEN-END LNS-PAST DU 90 DYS OR'] \\\n",
    "                                                    + df['RCON5400', 'RVLVG,OPEN-END LNS-NONACCRUAL'] \\\n",
    "                                                    + df['RCON5402', 'ALL OTH LNS,1-4FMLY-PAS DU 90 DYS OR'] \\\n",
    "                                                    + df['RCON5403', 'ALL OTH LNS,1-4FMLY-NONACCRUAL'] \\\n",
    "                                                    + df['RCONC237', 'CLSD-ED LNS:SEC 1 LIENS PA DU 90 MOR'] \\\n",
    "                                                    + df['RCONC229', 'CLSD-END LNS:SCRD 1ST LIENS-NONACCRL'] \\\n",
    "                                                    + df['RCONC239', 'CLSD-ED LNS:SEC JR LIENS PA DU 90 MO'] \\\n",
    "                                                    + df['RCONC230', 'CLSD-ED LNS:SCRD JR LIENS-NONACCRUAL'] \\\n",
    "                                                    + df['RCON3500', 'LNS SECD BY MULTIFAMILY-PST DU 90DYS'] \\\n",
    "                                                    + df['RCON3501', 'LNS SECD BY MULTIFAMILY-NONACCRUAL'] \\\n",
    "                                                    + df['RCON3503', 'LNS SECD BY NONFARM-PAST DU 90DYS OR'] \\\n",
    "                                                    + df['RCON3504', 'LNS SECD BY NONFARM-NONACCRUAL'] \\\n",
    "                                                    + df['RCONF180', 'LN SCRD BY OWNR OCCPD NFARM NRES > 9'] \\\n",
    "                                                    + df['RCONF182', 'LN SCRD BY OWNR OCCPD NFARM NRES NON'] \\\n",
    "                                                    + df['RCONF181', 'LN SCRD BY OTHR NFARM NRES PRPRTY >'] \\\n",
    "                                                    + df['RCONF183', 'LN SCRD BY OTHR NFARM NRES PRPRTY NA'] \\\n",
    "                                                    + df['RCONB835', 'PD GE 90 DAY LN TO DI DERIVED'] \\\n",
    "                                                    + df['RCONB836', 'P/D(NONACCR):LOANS TO DI - DERIVED'] \\\n",
    "                                                    + df['RCON1607', 'PAST DUE (>=90 DAYS): C&I LOANS'] \\\n",
    "                                                    + df['RCON1608', 'PAST DUE (NONACCRUAL):C&I LOANS'] \\\n",
    "                                                    + df['RCONB576', 'PAST DUE(>=90DAY): CREDIT CARD LOANS'] \\\n",
    "                                                    + df['RCONB577', 'PAST DUE(NONACCR): CREDIT CARD LOANS'] \\\n",
    "                                                    + df['RCONB579', 'PAST DUE(>=90DAY): OTHER INDIV LOANS'] \\\n",
    "                                                    + df['RCONB580', 'PAST DUE(NONACCR): OTHER INDIV LOANS'] \\\n",
    "                                                    + df['RCONK214', 'AUTO LN TO IND HH FAM PD 90'] \\\n",
    "                                                    + df['RCONK215', 'AUTO LN TO IND HH FAM NONACCRUAL'] \\\n",
    "                                                    + df['RCONK217', 'OTHR LN TO IND HH FAM PD 90'] \\\n",
    "                                                    + df['RCONK218', 'OTHR LN TO IND HH FAM NONACCRUAL'] \\\n",
    "                                                    + df['RCON5390', 'LNS TO FGN GOV,ETC.-PAS DU 90 DYS OR'] \\\n",
    "                                                    + df['RCON5391', 'LNS TO FGN GOV,ETC.-NONACCRUAL'] \\\n",
    "                                                    + df['RCON5460', 'ALL OTHER LOANS-PAST DU 90 DYS OR MO'] \\\n",
    "                                                    + df['RCON5461', 'ALL OTHER LOANS-NONACCRUAL'] \\\n",
    "                                                    + df['RCON1227', 'P/D(>=90DAY):LEASE FIN REC - DERIVED'] \\\n",
    "                                                    + df['RCON1228', 'P/D(NONACCR):LEASE FIN REC - DERIVED'] \\\n",
    "                                                    + df['RCON3506', 'OTH ASSETS-PAST DUE 90DYS OR MOR,ACG'] \\\n",
    "                                                    + df['RCON3507', 'OTHER ASSETS-NONACCRUAL']"
   ]
  },
  {
   "cell_type": "code",
   "execution_count": 12,
   "metadata": {
    "collapsed": true
   },
   "outputs": [],
   "source": [
    "def create_simple_variables(df, quarter):\n",
    "    # Some variables should be calculated with quarter-end variables:\n",
    "    df['calculated_var', 'equity_to_assets_ratio'] = df['RCON3210', 'TOTAL EQUITY CAPITAL'] / df['RCON2170', 'TOTAL ASSETS']\n",
    "    df['calculated_var', 'loans_&_leases_as_%_of_assets'] = df['RCON2122', 'TOT LNS&LEASE LESS UNEARN INC ON LNS'] \\\n",
    "        / df['RCON2170', 'TOTAL ASSETS']\n",
    "\n",
    "    # Others are better understood with quarterly averages:\n",
    "    df['calculated_var', 'log_of_total_assets'] = np.where(df['RCON3368', 'QTLY AVG OF TOTAL ASSETS'] > 1,\n",
    "                                                           np.log10(df['RCON3368', 'QTLY AVG OF TOTAL ASSETS']),\n",
    "                                                           0)\n",
    "    # We're annualizing the income portion of the ROA calculation for smoother trends\n",
    "    df['calculated_var', 'smoothed_return_on_assets'] = (df['RIAD4301', 'INCOME(LOSS) BEFORE INCOME TAXES ETC'] / quarter) * 4 \\\n",
    "        / df['RCON3368', 'QTLY AVG OF TOTAL ASSETS']\n",
    "\n",
    "    # Uninsured deposits = (deposits over FDIC's insurance limits - large fully insured deposits (aka transaction accounts))\n",
    "        # / number of accounts with uninsured deposits. Remember that $ amounts are in 1,000s\n",
    "    df['calculated_var', 'uninsured_deposits'] = np.where(df['RCON5597', 'ESTIMATE OF UNINSURED DEPOSITS'] > 0,\n",
    "                                                          df['RCON5597', 'ESTIMATE OF UNINSURED DEPOSITS'], \n",
    "                                                          (df['RCON2710', 'TOTAL DEPOSITS > $100,000'] \\\n",
    "                                                           + df['RCONF051', 'AMT OF DEP ACCNT MORE THAN $250K'] \\\n",
    "                                                           + df['RCONF047', 'AMT RETIREMT DEP ACCTS MOR THAN $250'] \\\n",
    "                                                           - df['RCONG167', 'AMT NONINT ACTS GE 250K'] \\\n",
    "                                                           - df['RCONJ944', 'AMT NONINT ACTS GT 250K DODD FRANK A'])\n",
    "                                                           - (100 * df['RCON2722', 'TOT DEPS - NUM OF ACCTS > $100,000'] \\\n",
    "                                                             + 100 * df['RCONF052', 'NBR OF DEP ACCNT GT $250K'] \\\n",
    "                                                             + 250 * df['RCONF048', 'NBR RETIRE DEP ACCNT MOR THAN $250K'] \\\n",
    "                                                             - df['RCONG168', 'NBR NONINT ACT GE 250K'] \\\n",
    "                                                             - df['RCONJ945', 'NBR NONINT ACT GT 250K DODD FRANK AC']))\n",
    "\n",
    "    # Residential real estate as % of total loans - traditionally a measure of the riskiness of a bank's loan portfolio\n",
    "        # Includes junior liens, not just first liens. Reasonble people can disagree on whether that's appropriate or not.\n",
    "    df['calculated_var', 'residential_real_estate_as_%_of_loans'] = (df['RCON1797', 'REVOLVING, OPEN-END LNS SECD BY 1-4F'] \\\n",
    "                                                                     + df['RCON5367', 'ALL OTH LNS SECD BY 1-4FMLY-1ST LIEN'] \\\n",
    "                                                                     + df['RCON5368', 'ALL OTH LNS SECD BY 1-4FMLY-JR LIENS']) \\\n",
    "                                                                     / (df['RCON2122', 'TOT LNS&LEASE LESS UNEARN INC ON LNS'])"
   ]
  },
  {
   "cell_type": "code",
   "execution_count": 13,
   "metadata": {
    "collapsed": true
   },
   "outputs": [],
   "source": [
    "# Somtimes the names of variables change slightly. When that happens, combine values into the original title\n",
    "\n",
    "### THIS SECTION NEEDS MORE LOVE. WHAT'S UP WITH THE $ AMOUNTS CHANGING IN THE SAME VARIABLE NAME? MAKE A NEW VARIABLE?\n",
    "\n",
    "def combine_columns(df):\n",
    "    if 'PAST DUE GE 90DAY OTHER INDIV LOANS' in df['RCONB579']:\n",
    "        df['RCONB579', 'PAST DUE(>=90DAY): OTHER INDIV LOANS'] = df['RCONB579', 'PAST DUE GE 90DAY OTHER INDIV LOANS'].copy()\n",
    "    if 'AMT OF OTH DEP ACCTS MORE THAN $100,' in df['RCONF051']:\n",
    "        df['RCONF051', 'AMT OF DEP ACCNT MORE THAN $250K'] = df['RCONF051', 'AMT OF OTH DEP ACCTS MORE THAN $100,'].copy()\n",
    "    if 'NBR OF DEP ACCTS OF MOR THN $100,000' in df['RCONF052']:\n",
    "        df['RCONF052', 'NBR OF DEP ACCNT GT $250K'] = df['RCONF052', 'NBR OF DEP ACCTS OF MOR THN $100,000'].copy()\n",
    "    if 'NBR RETIREMT DEP ACCTS MOR THAN $250' in df['RCONF048']:\n",
    "        df['RCONF048', 'NBR RETIRE DEP ACCNT MOR THAN $250K'] = df['RCONF048', 'NBR RETIREMT DEP ACCTS MOR THAN $250'].copy()\n",
    "    if '1-4  FAM RES CNSTRCTN LN PD > 90 DAY' in df['RCONF174']: # 2 spaces between \"1-4  FAM...\"\n",
    "        df['RCONF174', '1-4 FAM RES CNSTRCTN LN PD > 90 DAY'] = df['RCONF174', '1-4  FAM RES CNSTRCTN LN PD > 90 DAY'].copy()\n",
    "    if '1-4  FAM RES CNSTRCTN LN NONACCRUAL' in df['RCONF176']:  # 2 spaces between \"1-4  FAM...\"\n",
    "        df['RCONF176', '1-4 FAM RES CNSTRCTN LN NONACCRUAL'] = df['RCONF176', '1-4  FAM RES CNSTRCTN LN NONACCRUAL']\n",
    "    if 'LN SCRD BY OTHR NFARM NRES PRPRTY > ' in df['RCONF181']: # 1 space after \">\"\n",
    "        df['RCONF181', 'LN SCRD BY OTHR NFARM NRES PRPRTY >'] = df['RCONF181', 'LN SCRD BY OTHR NFARM NRES PRPRTY > ']"
   ]
  },
  {
   "cell_type": "code",
   "execution_count": 14,
   "metadata": {
    "collapsed": false
   },
   "outputs": [],
   "source": [
    "def make_series_from_comparison_df_to_match_original_df(original_df, comparison_df, var_code, var_name):\n",
    "    # When doing math on a column in a dataframe with a column from another dataframe,\n",
    "    # you need to make sure that the indexes match between the two dataframes.\n",
    "    # This function takes the comparison dataframe, turns the variable of interest into a 1-column dataframe,\n",
    "    # then forces that dataframe's index to match the original dataframe's index, replacing unknowns with 0s.\n",
    "\n",
    "    # First, make a new dataframe for the comparison quarter's value:\n",
    "    comparison_series = pd.DataFrame(\n",
    "        data = {(var_code, var_name): comparison_df[var_code, var_name]},\n",
    "        index = comparison_df.index)\n",
    "\n",
    "    # Find indexes unique to prior_quarter_df to remove them from the combined dataframe:\n",
    "    indexes_unique_to_comp_df = [item for item in list(comparison_series.index) if item not in list(original_df.index)]\n",
    "    comparison_series = comparison_series.drop(indexes_unique_to_comp_df)\n",
    "\n",
    "    # Add additional rows for indexes that are in the original df, but not the comparison df, to the original df:\n",
    "    unique_to_new_df = [item for item in list(original_df.index) if item not in list(comparison_series.index)]\n",
    "    new_indexes_as_zeros = pd.DataFrame(\n",
    "        data = {(var_code, var_name): [0 for item in range(len(unique_to_new_df))]},\n",
    "        index = unique_to_new_df)\n",
    "\n",
    "    # Add the dataframes together:\n",
    "    return pd.concat([comparison_series, new_indexes_as_zeros])"
   ]
  },
  {
   "cell_type": "code",
   "execution_count": 15,
   "metadata": {
    "collapsed": false
   },
   "outputs": [],
   "source": [
    "def create_jumbo_interest_margin(df, prior_quarter_df):\n",
    "    # Average jumbo interest rate. Also is the uninsured interest rate while the FDIC insured accounts >$100k\n",
    "    # (Interest expense on time deposits >$100k) / (Average $ amount held in time deposits >$100k)\n",
    "    if isinstance(prior_quarter_df, pd.DataFrame):\n",
    "\n",
    "        # Make a comparison dataframe to use to difference variables\n",
    "        one_column_only = make_series_from_comparison_df_to_match_original_df(\n",
    "            df, prior_quarter_df, 'RIADA517', 'TIME DEPOSITS OF $100,000 OR MORE')\n",
    "\n",
    "        # Subtract the prior quarter's value from the current dataframe\n",
    "        df['_temp_var', '_jumbo_interest_rate'] = np.where(\n",
    "            df['RCONA514', 'QTR AVG TIME DEPOSITS >= $100,000'] > 0,\n",
    "            (df['RIADA517', 'TIME DEPOSITS OF $100,000 OR MORE'].add(\n",
    "                -one_column_only['RIADA517', 'TIME DEPOSITS OF $100,000 OR MORE'], fill_value=0)) \\\n",
    "            / df['RCONA514', 'QTR AVG TIME DEPOSITS >= $100,000'],\n",
    "            0)\n",
    "\n",
    "        # Weighted average interest rate on jumbo CDs across all banks:\n",
    "        weighted_avg_jumbo_cd_rate = (\n",
    "            df['RIADA517', 'TIME DEPOSITS OF $100,000 OR MORE'].sum() \\\n",
    "            - prior_quarter_df['RIADA517', 'TIME DEPOSITS OF $100,000 OR MORE'].sum()) \\\n",
    "            / df['RCONA514', 'QTR AVG TIME DEPOSITS >= $100,000'].sum()\n",
    "\n",
    "    else:\n",
    "        df['_temp_var', '_jumbo_interest_rate'] = np.where(\n",
    "            df['RCONA514', 'QTR AVG TIME DEPOSITS >= $100,000'] > 0,\n",
    "            df['RIADA517', 'TIME DEPOSITS OF $100,000 OR MORE'] \\\n",
    "            / df['RCONA514', 'QTR AVG TIME DEPOSITS >= $100,000'],\n",
    "            0)\n",
    "        \n",
    "        # Weighted average interest rate on jumbo CDs across all banks:\n",
    "        weighted_avg_jumbo_cd_rate = df['RIADA517', 'TIME DEPOSITS OF $100,000 OR MORE'].sum() \\\n",
    "            / df['RCONA514', 'QTR AVG TIME DEPOSITS >= $100,000'].sum()     \n",
    "\n",
    "    # Jumbo Interest Margin: the difference between a particular bank's interest rate on jumbo CDs and\n",
    "    # the industry's weighted average interest rate on jumbo CDs\n",
    "    df['calculated_var', 'jumbo_interest_margin'] = df['_temp_var', '_jumbo_interest_rate'] - weighted_avg_jumbo_cd_rate"
   ]
  },
  {
   "cell_type": "code",
   "execution_count": 16,
   "metadata": {
    "collapsed": false
   },
   "outputs": [],
   "source": [
    "def _average_total_deposits(df):\n",
    "    return df['RCON3485', 'QTLY AVG OF INT-BRG TRANSACTION ACCT'] \\\n",
    "         + df['RCONB563', 'QTR AVG: NONTRANS - SAVING DEPOSITS'] \\\n",
    "         + df['RCONA514', 'QTR AVG TIME DEPOSITS >= $100,000'] \\\n",
    "         + df['RCONA529', 'QTR AVG TIME DEPOSITS < $100,000']\n",
    "\n",
    "def _interest_paid_for_deposits(df):\n",
    "    return df['RIAD4508', 'INT ON TRANS ACCTS(NOW,ATS&TELEPHON)'] \\\n",
    "         + df['RIAD0093', 'INTEREST EXPENSE ON SAVING DEPOSITS'] \\\n",
    "         + df['RIADA517', 'TIME DEPOSITS OF $100,000 OR MORE'] \\\n",
    "         + df['RIADA518', 'TIME DEPOSITS OF LESS THAN $100,000']\n",
    "\n",
    "def _add_interest_paid_for_deposits(df):\n",
    "    df['calculated_var', 'total_interest_paid_for_deposits'] = \\\n",
    "        df['RIAD4508', 'INT ON TRANS ACCTS(NOW,ATS&TELEPHON)'] \\\n",
    "        + df['RIAD0093', 'INTEREST EXPENSE ON SAVING DEPOSITS'] \\\n",
    "        + df['RIADA517', 'TIME DEPOSITS OF $100,000 OR MORE'] \\\n",
    "        + df['RIADA518', 'TIME DEPOSITS OF LESS THAN $100,000']\n",
    "    return df\n",
    "\n",
    "def _sum_average_total_deposits(df):\n",
    "    return df['RIAD4508', 'INT ON TRANS ACCTS(NOW,ATS&TELEPHON)'].sum() \\\n",
    "         + df['RIAD0093', 'INTEREST EXPENSE ON SAVING DEPOSITS'].sum() \\\n",
    "         + df['RIADA517', 'TIME DEPOSITS OF $100,000 OR MORE'].sum() \\\n",
    "         + df['RIADA518', 'TIME DEPOSITS OF LESS THAN $100,000'].sum()\n",
    "\n",
    "def _sum_interest_paid_for_deposits(df):\n",
    "    return df['RIAD4508', 'INT ON TRANS ACCTS(NOW,ATS&TELEPHON)'].sum() \\\n",
    "         + df['RIAD0093', 'INTEREST EXPENSE ON SAVING DEPOSITS'].sum() \\\n",
    "         + df['RIADA517', 'TIME DEPOSITS OF $100,000 OR MORE'].sum() \\\n",
    "         + df['RIADA518', 'TIME DEPOSITS OF LESS THAN $100,000'].sum()\n",
    "\n",
    "def create_deposit_interest_margin(df, prior_quarter_df):\n",
    "    # This is the difference between a particular bank's interest rates for deposits and the industry average\n",
    "    # Includes transaction accounts & savings accounts:\n",
    "    # (Interest expense on transaction + savings accounts + jumbo CDs + non-jumbo CDs) / (Average total deposits)\n",
    "\n",
    "    if isinstance(prior_quarter_df, pd.DataFrame):\n",
    "        # Make a comparison dataframe to use to difference variables\n",
    "        one_column_only = make_series_from_comparison_df_to_match_original_df(\n",
    "            _add_interest_paid_for_deposits(df), _add_interest_paid_for_deposits(prior_quarter_df),\n",
    "            'calculated_var', 'total_interest_paid_for_deposits')\n",
    "        \n",
    "        df = _add_interest_paid_for_deposits(df)\n",
    "        \n",
    "        df['_temp_var', '_deposit_interest_rate'] = np.where(\n",
    "            _average_total_deposits(df) > 0,\n",
    "            df['calculated_var', 'total_interest_paid_for_deposits'].add(\n",
    "                -one_column_only['calculated_var', 'total_interest_paid_for_deposits'], fill_value=0) \\\n",
    "                / _average_total_deposits(df),\n",
    "            0)\n",
    "\n",
    "        ########### THIS MUST BE THE BROKEN PART!!!  #########\n",
    "\n",
    "        # Weighted average interest rate on all deposits, across all banks\n",
    "        weighted_avg_deposit_interest_margin = (\n",
    "            _sum_interest_paid_for_deposits(df) - _sum_interest_paid_for_deposits(prior_quarter_df)) \\\n",
    "            / _sum_average_total_deposits(df)\n",
    "\n",
    "    else:\n",
    "        df['_temp_var', '_deposit_interest_rate'] = np.where(\n",
    "            _average_total_deposits(df) > 0,\n",
    "            _interest_paid_for_deposits(df) / _average_total_deposits(df),\n",
    "            0)\n",
    "\n",
    "        # Weighted average interest rate on all deposits, across all banks\n",
    "        weighted_avg_deposit_interest_margin = _sum_interest_paid_for_deposits(df) / _sum_average_total_deposits(df)\n",
    "\n",
    "    # Deposit Interest Margin: the difference between a particular bank's average interest rate paid on deposits\n",
    "    # and the industry's weighted average interest rate paid on deposits\n",
    "    df['calculated_var', 'deposit_interest_margin'] = df['_temp_var', '_deposit_interest_rate'] \\\n",
    "                                                    - weighted_avg_deposit_interest_margin\n"
   ]
  },
  {
   "cell_type": "code",
   "execution_count": 44,
   "metadata": {
    "collapsed": false
   },
   "outputs": [
    {
     "name": "stdout",
     "output_type": "stream",
     "text": [
      "Count: 12\n",
      "V1: q1_2001\n"
     ]
    }
   ],
   "source": [
    "## Testing here...\n",
    "\n",
    "# Make a copy (df.copy(deep=True)) of df and prior_quarter_df. \n",
    "# Look at weighted_avg_deposit_interest_margin. Play with that equation and figure out what parts are broken!\n",
    "# Why is the data still showing so much effect from quarters?\n",
    "q1_dfs = [df for df in quarterly_dataframes if df.startswith(\"q1\")]\n",
    "print(\"Count:\", len(q1_dfs))\n",
    "print(\"V1:\", q1_dfs[0])\n",
    "#print(\"V2:\", dataframe_dict)\n",
    "\n",
    "### The format is that the full dict, dataframe_dict, is a dictionary where the keys are things like \"q1_2001\".\n",
    "### So what I'm really trying to make a copy of is either the full dataframe_dict, or the key containing\n",
    "### the dataframe that I want to pass into the functions below, and really just the last function.\n",
    "\n",
    "#copy_df = q1_dfs[0].copy(deep=True)\n",
    "\n",
    "#calculate_and_add_variables(copy_df['df'], 1)\n",
    "#create_jumbo_interest_margin(copy_df['df'], False)\n",
    "#create_deposit_interest_margin(copy_df['df'], False)  ### The one that matters\n"
   ]
  },
  {
   "cell_type": "code",
   "execution_count": null,
   "metadata": {
    "collapsed": true
   },
   "outputs": [],
   "source": [
    "## Tesing here...\n",
    "# Look at what just got created and figure out why it's negative\n",
    "\n"
   ]
  },
  {
   "cell_type": "code",
   "execution_count": null,
   "metadata": {
    "collapsed": true
   },
   "outputs": [],
   "source": []
  },
  {
   "cell_type": "code",
   "execution_count": 18,
   "metadata": {
    "collapsed": true
   },
   "outputs": [],
   "source": [
    "def calculate_quarterly_ROA(df, prior_quarter_df):\n",
    "    # We have another variable called smoothed_return_on_assets. That version takes the year-to-date income numbers,\n",
    "    # scales them up as if they were a full year's income (4 * (income / quarter number)), which gives a smoother result.\n",
    "    # Instead, here we're going to treat each quarter individually and scale up that quarter's ROA to an annualized number.\n",
    "\n",
    "    if isinstance(prior_quarter_df, pd.DataFrame):\n",
    "        prior_quarter_matching_var = make_series_from_comparison_df_to_match_original_df(\n",
    "            df, prior_quarter_df, 'RIAD4301', 'INCOME(LOSS) BEFORE INCOME TAXES ETC')\n",
    "        df['calculated_var', 'quarterly_return_on_assets'] = np.where(\n",
    "            df['RCON3368', 'QTLY AVG OF TOTAL ASSETS'] > 0,\n",
    "            df['RIAD4301', 'INCOME(LOSS) BEFORE INCOME TAXES ETC'].add(\n",
    "                -prior_quarter_matching_var['RIAD4301', 'INCOME(LOSS) BEFORE INCOME TAXES ETC'])\n",
    "                / df['RCON3368', 'QTLY AVG OF TOTAL ASSETS'],\n",
    "            0)\n",
    "\n",
    "    else:\n",
    "        df['calculated_var', 'quarterly_return_on_assets'] = np.where(\n",
    "            df['RCON3368', 'QTLY AVG OF TOTAL ASSETS'] > 0,\n",
    "            df['RIAD4301', 'INCOME(LOSS) BEFORE INCOME TAXES ETC'] / df['RCON3368', 'QTLY AVG OF TOTAL ASSETS'],\n",
    "            0)"
   ]
  },
  {
   "cell_type": "code",
   "execution_count": 19,
   "metadata": {
    "collapsed": true
   },
   "outputs": [],
   "source": [
    "def calculate_and_add_variables(df, quarter):\n",
    "    combine_columns(df)\n",
    "    create_simple_variables(df, quarter)\n",
    "    create_danger_loans_var(df)"
   ]
  },
  {
   "cell_type": "markdown",
   "metadata": {},
   "source": [
    "## Run all the functions to add variables to the dataframes"
   ]
  },
  {
   "cell_type": "code",
   "execution_count": 20,
   "metadata": {
    "collapsed": false
   },
   "outputs": [
    {
     "name": "stderr",
     "output_type": "stream",
     "text": [
      "c:\\users\\aubre\\desktop\\local_math\\jupyter_env\\lib\\site-packages\\ipykernel\\__main__.py:8: RuntimeWarning: divide by zero encountered in log10\n"
     ]
    }
   ],
   "source": [
    "# Some operations need to be aware of their prior period. Those have to be done chronologically:\n",
    "q1_dfs = [df for df in quarterly_dataframes if df.startswith(\"q1\")]\n",
    "other_dfs = [df for df in quarterly_dataframes if df not in q1_dfs]\n",
    "\n",
    "# First do all first quarter dataframes\n",
    "for period in q1_dfs:\n",
    "    calculate_and_add_variables(dataframe_dict[period]['df'], 1)\n",
    "    create_jumbo_interest_margin(dataframe_dict[period]['df'], False)\n",
    "    create_deposit_interest_margin(dataframe_dict[period]['df'], False)\n",
    "    calculate_quarterly_ROA(dataframe_dict[period]['df'], False)\n",
    "\n",
    "count=1\n",
    "for period in other_dfs:\n",
    "    # Find the prior quarter's dataframe\n",
    "    if other_dfs.index(period) % 3 == 0:\n",
    "        # If it's the 2nd quarter, then the prior quarter is in q1_dfs\n",
    "        prior_quarter_df = q1_dfs[other_dfs.index(period) // 3]\n",
    "    else:\n",
    "        # Otherwise it's the item before the current one in other_dfs\n",
    "        prior_quarter_df = other_dfs[other_dfs.index(period) - 1]\n",
    "\n",
    "    calculate_and_add_variables(dataframe_dict[period]['df'], dataframe_dict[period]['quarter'])\n",
    "    create_jumbo_interest_margin(dataframe_dict[period]['df'], dataframe_dict[prior_quarter_df]['df'])\n",
    "    create_deposit_interest_margin(dataframe_dict[period]['df'], dataframe_dict[prior_quarter_df]['df'])\n",
    "    calculate_quarterly_ROA(dataframe_dict[period]['df'], dataframe_dict[prior_quarter_df]['df'])\n",
    "    count += 1\n"
   ]
  },
  {
   "cell_type": "code",
   "execution_count": 21,
   "metadata": {
    "collapsed": false
   },
   "outputs": [],
   "source": [
    "## May need to add different variables for international banks..."
   ]
  },
  {
   "cell_type": "code",
   "execution_count": null,
   "metadata": {
    "collapsed": false
   },
   "outputs": [],
   "source": []
  },
  {
   "cell_type": "markdown",
   "metadata": {},
   "source": [
    "# Inspect variables via graphs"
   ]
  },
  {
   "cell_type": "code",
   "execution_count": 22,
   "metadata": {
    "collapsed": false
   },
   "outputs": [],
   "source": [
    "def plot_sums_over_time(dataframe_dict, variable_code, variable_description, quarterly=False):\n",
    "    var_sums = []\n",
    "    # Get the averages for the variable\n",
    "    for quarter_end in quarterly_dataframes:\n",
    "        var_sums += [dataframe_dict[quarter_end]['df'][variable_code, variable_description].sum()]\n",
    "\n",
    "    if quarterly:\n",
    "        plt.plot(list(range(len(quarterly_dataframes[3::4]))), var_sums[3::4])\n",
    "    else:\n",
    "        plt.plot(list(range(len(quarterly_dataframes))), var_sums)\n",
    "    plt.show()"
   ]
  },
  {
   "cell_type": "markdown",
   "metadata": {},
   "source": [
    "### Uncomment to look at your variable of choice"
   ]
  },
  {
   "cell_type": "code",
   "execution_count": 34,
   "metadata": {
    "collapsed": false
   },
   "outputs": [
    {
     "data": {
      "image/png": "[encoded data removed]",
      "text/plain": [
       "<matplotlib.figure.Figure at 0x2969f7b0828>"
      ]
     },
     "metadata": {},
     "output_type": "display_data"
    }
   ],
   "source": [
    "# Plot important variables to make sure they seem believable.\n",
    "# Often aggregating variables doesn't make a meaningful number. We're watching for discontinuities, dramatic jumps, etc\n",
    "\n",
    "# GOOD\n",
    "#plot_sums_over_time(dataframe_dict, 'calculated_var', 'noncurrent_danger_loans')\n",
    "#plot_sums_over_time(dataframe_dict, 'calculated_var', 'equity_to_assets_ratio')\n",
    "#plot_sums_over_time(dataframe_dict, 'calculated_var', 'loans_&_leases_as_%_of_assets')\n",
    "#plot_sums_over_time(dataframe_dict, 'calculated_var', 'smoothed_return_on_assets') ## Not a meaningful number itself\n",
    "#plot_sums_over_time(dataframe_dict, 'calculated_var', 'residential_real_estate_as_%_of_loans')\n",
    "#plot_sums_over_time(dataframe_dict, 'calculated_var', 'log_of_total_assets') ## Not a meaningful number itself\n",
    "#plot_sums_over_time(dataframe_dict, '_temp_var', '_jumbo_interest_rate', quarterly=False)\n",
    "#plot_sums_over_time(dataframe_dict, 'calculated_var', 'jumbo_interest_margin')\n",
    "#plot_sums_over_time(dataframe_dict, 'calculated_var', 'quarterly_return_on_assets', quarterly=False)  ## Why do some years show a quarterly trend?\n",
    "\n",
    "# WEIRD\n",
    "#plot_sums_over_time(dataframe_dict, '_temp_var', '_deposit_interest_rate')  ## Looks good, but...\n",
    "plot_sums_over_time(dataframe_dict, 'calculated_var', 'deposit_interest_margin')  #### WHAT THE HELL ARE THESE NEGATIVE NUMBERS?\n",
    "\n",
    "## Uninsured deposits went up during the recession? The sudden cliffs are, I believe, due to changing FDIC standards.\n",
    "## Should never be able to be less than 0, but ~1% are! \n",
    "#plot_sums_over_time(dataframe_dict, 'calculated_var', 'uninsured_deposits')  "
   ]
  },
  {
   "cell_type": "code",
   "execution_count": null,
   "metadata": {
    "collapsed": false
   },
   "outputs": [],
   "source": [
    "#dataframe_dict['q1_2010']['df']['calculated_var', 'uninsured_deposits'].describe()\n",
    "dataframe_dict['q1_2010']['df']['calculated_var', 'uninsured_deposits'].lt(0).sum().sum()"
   ]
  },
  {
   "cell_type": "code",
   "execution_count": null,
   "metadata": {
    "collapsed": true
   },
   "outputs": [],
   "source": []
  },
  {
   "cell_type": "code",
   "execution_count": null,
   "metadata": {
    "collapsed": true
   },
   "outputs": [],
   "source": [
    "# Need to make a multi-index dataframe, using dates as the index. \n",
    "# How to turn dates into things that pandas understand?\n",
    "# Have to do that anyways for the actual regression!\n",
    "\n",
    "# 2 ways to do this:\n",
    "    # Grab the sum of each variable of interest from the individual dataframe.\n",
    "    # Look at the original list that keys for the dict of dataframes was made from.\n",
    "    # For each variable of interest, make a new array tracking the variable over time.\n",
    "    # Graph the array.\n",
    "\n",
    "    # Make the dataframe a multi-index dataframe.\n",
    "    # Do something smart with that. "
   ]
  },
  {
   "cell_type": "code",
   "execution_count": null,
   "metadata": {
    "collapsed": true
   },
   "outputs": [],
   "source": []
  },
  {
   "cell_type": "code",
   "execution_count": null,
   "metadata": {
    "collapsed": true
   },
   "outputs": [],
   "source": []
  },
  {
   "cell_type": "code",
   "execution_count": null,
   "metadata": {
    "collapsed": true
   },
   "outputs": [],
   "source": []
  },
  {
   "cell_type": "code",
   "execution_count": null,
   "metadata": {
    "collapsed": true
   },
   "outputs": [],
   "source": []
  },
  {
   "cell_type": "code",
   "execution_count": null,
   "metadata": {
    "collapsed": true
   },
   "outputs": [],
   "source": []
  },
  {
   "cell_type": "code",
   "execution_count": null,
   "metadata": {
    "collapsed": false
   },
   "outputs": [],
   "source": []
  },
  {
   "cell_type": "code",
   "execution_count": null,
   "metadata": {
    "collapsed": false
   },
   "outputs": [],
   "source": []
  },
  {
   "cell_type": "code",
   "execution_count": null,
   "metadata": {
    "collapsed": true
   },
   "outputs": [],
   "source": []
  },
  {
   "cell_type": "code",
   "execution_count": null,
   "metadata": {
    "collapsed": true
   },
   "outputs": [],
   "source": []
  },
  {
   "cell_type": "code",
   "execution_count": null,
   "metadata": {
    "collapsed": true
   },
   "outputs": [],
   "source": [
    "## Difference the variables to get them ready for the GMM"
   ]
  },
  {
   "cell_type": "code",
   "execution_count": null,
   "metadata": {
    "collapsed": true
   },
   "outputs": [],
   "source": [
    "# Multi-year comparisons:\n",
    "    # asset growth\n",
    "    # change in advertising/marketing (RIAD0497)\n",
    "    \n",
    "    "
   ]
  },
  {
   "cell_type": "code",
   "execution_count": null,
   "metadata": {
    "collapsed": true
   },
   "outputs": [],
   "source": [
    "## Variable options: instead of total equity, consider total risk-based equity (RCON3792)"
   ]
  },
  {
   "cell_type": "code",
   "execution_count": null,
   "metadata": {
    "collapsed": true
   },
   "outputs": [],
   "source": []
  },
  {
   "cell_type": "code",
   "execution_count": null,
   "metadata": {
    "collapsed": true
   },
   "outputs": [],
   "source": [
    "## Use R's GMM estimation\n",
    "    # Trying to predict changes in uninsured deposits based on asset quality, general bank health, & deposit rates\n",
    "    # Try to predict changes in both uninsured & insured deposits (or total deposits?)"
   ]
  },
  {
   "cell_type": "code",
   "execution_count": null,
   "metadata": {
    "collapsed": true
   },
   "outputs": [],
   "source": []
  },
  {
   "cell_type": "code",
   "execution_count": null,
   "metadata": {
    "collapsed": true
   },
   "outputs": [],
   "source": [
    "## Check out the fit measurements"
   ]
  },
  {
   "cell_type": "code",
   "execution_count": null,
   "metadata": {
    "collapsed": true
   },
   "outputs": [],
   "source": []
  },
  {
   "cell_type": "code",
   "execution_count": null,
   "metadata": {
    "collapsed": true
   },
   "outputs": [],
   "source": [
    "## Incorporate some other model? Random forests, neural networks, regular linear regression, etc?\n",
    "## Something to show that Arellano-Bond is the right method to use for this problem"
   ]
  },
  {
   "cell_type": "code",
   "execution_count": null,
   "metadata": {
    "collapsed": true
   },
   "outputs": [],
   "source": []
  }
 ],
 "metadata": {
  "kernelspec": {
   "display_name": "Python 3",
   "language": "python",
   "name": "python3"
  },
  "language_info": {
   "codemirror_mode": {
    "name": "ipython",
    "version": 3
   },
   "file_extension": ".py",
   "mimetype": "text/x-python",
   "name": "python",
   "nbconvert_exporter": "python",
   "pygments_lexer": "ipython3",
   "version": "3.5.2"
  }
 },
 "nbformat": 4,
 "nbformat_minor": 2
}
